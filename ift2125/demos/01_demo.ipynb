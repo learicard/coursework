{
 "cells": [
  {
   "cell_type": "markdown",
   "metadata": {},
   "source": [
    "# IFT 2125 - TP 1 - 12 janvier\n",
    "## Stephanie Larocque"
   ]
  },
  {
   "cell_type": "code",
   "execution_count": 4,
   "metadata": {},
   "outputs": [],
   "source": [
    "import numpy as np #pour les operations mathematiques sur les matrices, par exemple\n",
    "\n",
    "import matplotlib.pyplot as plt # graphiques"
   ]
  },
  {
   "cell_type": "markdown",
   "metadata": {},
   "source": [
    "## Question 1\n",
    "\n",
    "Implementer en python un algorithme pour calculer le plus petit commum multiple (ppcm) de deux nombres $a$ et $b$"
   ]
  },
  {
   "cell_type": "code",
   "execution_count": 2,
   "metadata": {},
   "outputs": [],
   "source": [
    "def pgcd(a,b): # Algorithme d'Euclide\n",
    "    while b!= 0 :\n",
    "        a, b = b, a%b\n",
    "    return a\n",
    "\n",
    "def ppcm(a,b): # Car a*b = ppcm(a,b)*pgcd(a,b) <---- on peut le voir grace a la decomposition en nombres premiers\n",
    "    return a * b // pgcd(a, b)"
   ]
  },
  {
   "cell_type": "code",
   "execution_count": 3,
   "metadata": {},
   "outputs": [
    {
     "name": "stdout",
     "output_type": "stream",
     "text": [
      "6\n",
      "28\n"
     ]
    }
   ],
   "source": [
    "print(pgcd(24, 42))\n",
    "print(ppcm(4, 14))"
   ]
  },
  {
   "cell_type": "markdown",
   "metadata": {},
   "source": [
    "## Question 2\n",
    "\n",
    "Declarer une liste, un tuple et un set contenant les elements 1,2,3,4 en python et enoncer les principales diﬀerences. Implementer une methode de tri d’une liste.\n"
   ]
  },
  {
   "cell_type": "code",
   "execution_count": 4,
   "metadata": {},
   "outputs": [],
   "source": [
    "liste = [1,2,3,4] # ordonne, repetition possible, , muable\n",
    "tup = (1, 2, 3, 4) # ordonne, repetition possible, immuable****\n",
    "ensemble = {1,2,3,4} # pas ordonne, pas repetition, muable"
   ]
  },
  {
   "cell_type": "code",
   "execution_count": 5,
   "metadata": {},
   "outputs": [
    {
     "name": "stdout",
     "output_type": "stream",
     "text": [
      "liste [1, 2, 2]\n",
      "set {1, 2} supprime les elements repetes\n"
     ]
    }
   ],
   "source": [
    "l1 = [1,2,2]\n",
    "print(\"liste\", l1)\n",
    "e1 = {1,1,2}\n",
    "print(\"set\", e1, \"supprime les elements repetes\")"
   ]
  },
  {
   "cell_type": "code",
   "execution_count": 6,
   "metadata": {},
   "outputs": [
    {
     "name": "stdout",
     "output_type": "stream",
     "text": [
      "['allo', 4, 1.5]\n"
     ]
    }
   ],
   "source": [
    "#Une liste peut contenir nimporte quoi (pas uniquement des elements de meme type)\n",
    "l2 = [\"allo\", 4, 1.5]\n",
    "print(l2)"
   ]
  },
  {
   "cell_type": "code",
   "execution_count": 7,
   "metadata": {},
   "outputs": [
    {
     "name": "stdout",
     "output_type": "stream",
     "text": [
      "[1, 2, 3, 4, 5]\n",
      "[1, 2, 3, 4, 5, 1]\n",
      "{1, 2, 3, 4, 5}\n"
     ]
    }
   ],
   "source": [
    "#On peut ajouter des elements aux listes et aux ensembles, mais pas aux tuples (car immuables)\n",
    "liste.append(5)\n",
    "print(liste)\n",
    "liste.append(1)\n",
    "print(liste)\n",
    "ensemble.add(5)\n",
    "print(ensemble)\n",
    "#tup.append(5) #<--- donne une erreur"
   ]
  },
  {
   "cell_type": "code",
   "execution_count": null,
   "metadata": {},
   "outputs": [],
   "source": []
  },
  {
   "cell_type": "code",
   "execution_count": null,
   "metadata": {},
   "outputs": [],
   "source": []
  },
  {
   "cell_type": "code",
   "execution_count": 8,
   "metadata": {},
   "outputs": [],
   "source": [
    "def insertion_sort(l):\n",
    "    \n",
    "    n = len(l) #taille d'une liste\n",
    "    \n",
    "    for i in range(n-1): #i = 0, 1, 2, ..., n-2 ### range(n) = range(0, n, 1), range(n, 0, -2)\n",
    "        index_min = i\n",
    "        for j in range(i+1, n):\n",
    "            if l[j]<l[index_min]:\n",
    "                index_min = j\n",
    "        l[i], l[index_min] = l[index_min], l[i]\n",
    "        print(\"Step\", i,\" :\", l)\n",
    "    return l\n",
    "    \n",
    "    \n",
    "    \n"
   ]
  },
  {
   "cell_type": "code",
   "execution_count": 9,
   "metadata": {},
   "outputs": [
    {
     "name": "stdout",
     "output_type": "stream",
     "text": [
      "Step 0  : [1, 3, 10, 4, 5, 2]\n",
      "Step 1  : [1, 2, 10, 4, 5, 3]\n",
      "Step 2  : [1, 2, 3, 4, 5, 10]\n",
      "Step 3  : [1, 2, 3, 4, 5, 10]\n",
      "Step 4  : [1, 2, 3, 4, 5, 10]\n"
     ]
    },
    {
     "data": {
      "text/plain": [
       "[1, 2, 3, 4, 5, 10]"
      ]
     },
     "execution_count": 9,
     "metadata": {},
     "output_type": "execute_result"
    }
   ],
   "source": [
    "insertion_sort([10,3,1,4,5, 2])"
   ]
  },
  {
   "cell_type": "code",
   "execution_count": null,
   "metadata": {},
   "outputs": [],
   "source": []
  },
  {
   "cell_type": "markdown",
   "metadata": {},
   "source": [
    "## Question 3\n",
    "Implementer en Python un algorithme pour calculer naivement det(A):\n",
    "\n",
    "$$ \\det(A) = \\sum_{j = 1}^m (-1)^{i+j}\\ a_{ij}\\ \\det(A_{ij})$$"
   ]
  },
  {
   "cell_type": "code",
   "execution_count": 10,
   "metadata": {},
   "outputs": [],
   "source": [
    "def sub_matrix(A, i, j):\n",
    "    #enlever ligne i (axis = 0 pour les lignes)\n",
    "    A = np.delete(A, (i), axis = 0)\n",
    "    #enelver colonne j (axis = 1 pour les colonnes)\n",
    "    A = np.delete(A, (j), axis = 1)\n",
    "    return A\n",
    "\n",
    "def det(A):\n",
    "    i = 0\n",
    "    m = len(A)# nb de lignes dans la matrice A\n",
    "    \n",
    "    if m==1: # La recursion doit s'arreter\n",
    "        return A[0,0]\n",
    "    else:\n",
    "        x = 0\n",
    "        for j in range(m): \n",
    "            x +=( (-1)**(i+j) ) * A[i,j] * det(sub_matrix(A, i, j))\n",
    "        return x\n",
    "    \n",
    "    "
   ]
  },
  {
   "cell_type": "code",
   "execution_count": 11,
   "metadata": {},
   "outputs": [
    {
     "name": "stdout",
     "output_type": "stream",
     "text": [
      "Determinant of \n",
      "[[ 1  2 30]\n",
      " [ 4  5  6]\n",
      " [ 7  8  9]]  is  -81\n",
      "Pour verifier, methode determinant de numpy donne :  -81.00000000000003\n"
     ]
    }
   ],
   "source": [
    "A = np.array(   [[1,2,30],[4,5,6],[7,8,9]]  )\n",
    "print(\"Determinant of \")\n",
    "print( A, \" is \", det(A))\n",
    "\n",
    "print(\"Pour verifier, methode determinant de numpy donne : \", np.linalg.det(A))"
   ]
  },
  {
   "cell_type": "code",
   "execution_count": null,
   "metadata": {},
   "outputs": [],
   "source": []
  },
  {
   "cell_type": "markdown",
   "metadata": {},
   "source": [
    "## Questions des etudiants"
   ]
  },
  {
   "cell_type": "code",
   "execution_count": 12,
   "metadata": {},
   "outputs": [
    {
     "name": "stdout",
     "output_type": "stream",
     "text": [
      "f(4) :  (4, 5)\n",
      "f(4)[0] :  4 <-- pour aller rechercher le premier element, 4\n",
      "y :  (4, 5) <-- un tuple contenant l'output de la fonction f\n"
     ]
    }
   ],
   "source": [
    "def f(a):\n",
    "    return a, a + 1\n",
    "\n",
    "print(\"f(4) : \", f(4))\n",
    "print(\"f(4)[0] : \", f(4)[0] ,\"<-- pour aller rechercher le premier element, 4\")\n",
    "y  = f(4)\n",
    "print(\"y : \",f(4), \"<-- un tuple contenant l'output de la fonction f\")"
   ]
  },
  {
   "cell_type": "code",
   "execution_count": 2,
   "metadata": {},
   "outputs": [
    {
     "name": "stdout",
     "output_type": "stream",
     "text": [
      "(1, 2, 2, 3)\n",
      "[1, 2, 2, 3]\n"
     ]
    }
   ],
   "source": [
    "# Addition de tuples ou de listes = concatenation\n",
    "tup = (1,2)\n",
    "tup2 = (2,3)\n",
    "print(tup+tup2)\n",
    "\n",
    "l1 = [1,2]\n",
    "l2 = [2,3]\n",
    "print(l1+l2)"
   ]
  },
  {
   "cell_type": "code",
   "execution_count": 5,
   "metadata": {},
   "outputs": [
    {
     "name": "stdout",
     "output_type": "stream",
     "text": [
      "[1. 1.]\n",
      "[4. 6.]\n"
     ]
    }
   ],
   "source": [
    "# Addition d'array numpy = addition au sens mathematique\n",
    "a = np.array([1,2])\n",
    "a2 = np.array([2,3])\n",
    "a3 = np.ones(2)\n",
    "print(a3)\n",
    "print(a+a2+a3)"
   ]
  },
  {
   "cell_type": "code",
   "execution_count": 6,
   "metadata": {},
   "outputs": [
    {
     "name": "stdout",
     "output_type": "stream",
     "text": [
      "3\n",
      "4\n"
     ]
    }
   ],
   "source": [
    "A = np.array(   [[1,2,30, 1],[4,5,6, 1],[7,8,9,1]]  )\n",
    "print(len(A)) # Nombre de lignes\n",
    "print(len(A[0])) # Nombre de colonnes"
   ]
  },
  {
   "cell_type": "code",
   "execution_count": null,
   "metadata": {},
   "outputs": [],
   "source": []
  },
  {
   "cell_type": "code",
   "execution_count": null,
   "metadata": {},
   "outputs": [],
   "source": []
  }
 ],
 "metadata": {
  "kernelspec": {
   "display_name": "Python 3",
   "language": "python",
   "name": "python3"
  },
  "language_info": {
   "codemirror_mode": {
    "name": "ipython",
    "version": 3
   },
   "file_extension": ".py",
   "mimetype": "text/x-python",
   "name": "python",
   "nbconvert_exporter": "python",
   "pygments_lexer": "ipython3",
   "version": "3.6.3"
  }
 },
 "nbformat": 4,
 "nbformat_minor": 2
}
